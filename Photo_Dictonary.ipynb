{
  "nbformat": 4,
  "nbformat_minor": 0,
  "metadata": {
    "colab": {
      "provenance": []
    },
    "kernelspec": {
      "name": "python3",
      "display_name": "Python 3"
    },
    "language_info": {
      "name": "python"
    }
  },
  "cells": [
    {
      "cell_type": "markdown",
      "source": [
        "This code is to retrive all the links"
      ],
      "metadata": {
        "id": "EcSugCqMBhF7"
      }
    },
    {
      "cell_type": "code",
      "execution_count": 6,
      "metadata": {
        "colab": {
          "base_uri": "https://localhost:8080/"
        },
        "id": "mOeaigOwvhXS",
        "outputId": "352f4d55-a169-46ef-8225-25eaf8a62e15"
      },
      "outputs": [
        {
          "output_type": "stream",
          "name": "stdout",
          "text": [
            "Link-1 : //upload.wikimedia.org/wikipedia/commons/thumb/5/5a/Aerial_view_of_Apple_Park_dllu.jpg/250px-Aerial_view_of_Apple_Park_dllu.jpg\n",
            "\n",
            "Link-2 : //upload.wikimedia.org/wikipedia/commons/thumb/b/bd/Apple_Garage.jpg/220px-Apple_Garage.jpg\n",
            "\n",
            "Link-3 : //upload.wikimedia.org/wikipedia/commons/thumb/a/a1/Apple_I_Computer.jpg/220px-Apple_I_Computer.jpg\n",
            "\n",
            "Link-4 : //upload.wikimedia.org/wikipedia/commons/thumb/b/b1/Apple_II_Plus%2C_Museum_of_the_Moving_Image.jpg/220px-Apple_II_Plus%2C_Museum_of_the_Moving_Image.jpg\n",
            "\n",
            "Link-5 : //upload.wikimedia.org/wikipedia/commons/thumb/0/05/Apple_PenLite_prototype%2C_1992.jpg/220px-Apple_PenLite_prototype%2C_1992.jpg\n",
            "\n",
            "Link-6 : //upload.wikimedia.org/wikipedia/commons/thumb/e/e9/Clamshell_iBook_G3.jpg/105px-Clamshell_iBook_G3.jpg\n",
            "\n",
            "Link-7 : //upload.wikimedia.org/wikipedia/commons/thumb/7/77/Apple_PowerBook_G3_500_Pismo-2763.jpg/104px-Apple_PowerBook_G3_500_Pismo-2763.jpg\n",
            "\n",
            "Link-8 : //upload.wikimedia.org/wikipedia/commons/thumb/9/9a/MacBook_Pro.jpg/220px-MacBook_Pro.jpg\n",
            "\n",
            "Link-9 : //upload.wikimedia.org/wikipedia/commons/thumb/4/45/First_iPhone_Macworld_2007_DSCF1283.agr.jpg/220px-First_iPhone_Macworld_2007_DSCF1283.agr.jpg\n",
            "\n",
            "Link-10 : //upload.wikimedia.org/wikipedia/commons/thumb/2/25/M2_Macbook_Air_Midnight_model_-_1.jpg/118px-M2_Macbook_Air_Midnight_model_-_1.jpg\n",
            "\n",
            "Link-11 : //upload.wikimedia.org/wikipedia/commons/thumb/c/c2/M1_iMac_blue_model_%28cropped%29.jpg/116px-M1_iMac_blue_model_%28cropped%29.jpg\n",
            "\n",
            "Link-12 : //upload.wikimedia.org/wikipedia/commons/thumb/f/f0/IPhone_14_Pro_-_2.jpg/110px-IPhone_14_Pro_-_2.jpg\n",
            "\n",
            "Link-13 : //upload.wikimedia.org/wikipedia/commons/thumb/c/c0/IPad_Pro_2020_with_Magic_Keyboard_-_5.jpg/180px-IPad_Pro_2020_with_Magic_Keyboard_-_5.jpg\n",
            "\n",
            "Link-14 : //upload.wikimedia.org/wikipedia/commons/thumb/9/9a/Apple_AirPods_Max_6.jpg/130px-Apple_AirPods_Max_6.jpg\n",
            "\n",
            "Link-15 : //upload.wikimedia.org/wikipedia/commons/thumb/9/91/Apple_Watch_Ultra_-_2.jpg/104px-Apple_Watch_Ultra_-_2.jpg\n",
            "\n",
            "Link-16 : //upload.wikimedia.org/wikipedia/commons/thumb/0/0c/Apple_store_fifth_avenue.jpg/220px-Apple_store_fifth_avenue.jpg\n",
            "\n",
            "Link-17 : //upload.wikimedia.org/wikipedia/commons/thumb/6/6a/Apple_Genius_Bar_Regentstreet_London.jpg/220px-Apple_Genius_Bar_Regentstreet_London.jpg\n",
            "\n",
            "Link-18 : //upload.wikimedia.org/wikipedia/commons/thumb/f/fb/Prism-slide-8.jpg/220px-Prism-slide-8.jpg\n",
            "\n",
            "Link-19 : //upload.wikimedia.org/wikipedia/commons/thumb/0/0c/Steve_Wozniak_and_Andy_Hertzfeld_1985.jpg/220px-Steve_Wozniak_and_Andy_Hertzfeld_1985.jpg\n",
            "\n",
            "Link-20 : //upload.wikimedia.org/wikipedia/commons/thumb/e/eb/Apple_park_cupertino_2019.jpg/220px-Apple_park_cupertino_2019.jpg\n",
            "\n",
            "Link-21 : //upload.wikimedia.org/wikipedia/commons/thumb/b/b0/Apple_Headquarters_in_Cupertino.jpg/220px-Apple_Headquarters_in_Cupertino.jpg\n",
            "\n",
            "Link-22 : //upload.wikimedia.org/wikipedia/commons/thumb/b/b9/Steve_Jobs_Headshot_2010-CROP.jpg/100px-Steve_Jobs_Headshot_2010-CROP.jpg\n",
            "\n",
            "Link-23 : //upload.wikimedia.org/wikipedia/commons/thumb/d/da/SF_From_Marin_Highlands3.jpg/21px-SF_From_Marin_Highlands3.jpg\n",
            "\n"
          ]
        }
      ],
      "source": [
        "from urllib.request import urlopen\n",
        "from bs4 import BeautifulSoup\n",
        "import re\n",
        "\n",
        "html = urlopen('https://en.wikipedia.org/wiki/Apple_Inc.')\n",
        "soup = BeautifulSoup(html, 'html.parser')\n",
        "images = soup.find_all('img', {'src':re.compile('.jpg')})\n",
        "i=1\n",
        "for image in images: \n",
        "    print('Link-'+str(i)+' : '+image['src']+'\\n')\n",
        "    i=i+1"
      ]
    },
    {
      "cell_type": "markdown",
      "source": [
        "This version of code retrives all the images and its captions and store in a dictonary named \"image_data\"(Error: This is not including the pictures from infobox)"
      ],
      "metadata": {
        "id": "HCNk5DK-BrWD"
      }
    },
    {
      "cell_type": "code",
      "source": [
        "import requests\n",
        "from bs4 import BeautifulSoup\n",
        "\n",
        "# Define the URL of the Wikipedia page\n",
        "url = 'https://en.wikipedia.org/wiki/Apple_Inc.'\n",
        "\n",
        "# Send a GET request to the URL\n",
        "response = requests.get(url)\n",
        "\n",
        "# Create a BeautifulSoup object to parse the HTML content\n",
        "soup = BeautifulSoup(response.text, 'html.parser')\n",
        "\n",
        "# Find all thumbnail elements on the page\n",
        "thumbnails = soup.find_all('div', class_='thumb')\n",
        "\n",
        "# Create a dictionary to store image URLs and their thumb captions\n",
        "image_data = {}\n",
        "\n",
        "# Extract the image URLs and thumb captions\n",
        "for thumbnail in thumbnails:\n",
        "    image = thumbnail.find('img')\n",
        "    caption = thumbnail.find('div', class_='thumbcaption')\n",
        "    if image and caption:\n",
        "        image_url = 'https:' + image['src']\n",
        "        thumb_caption = caption.text.strip()\n",
        "        image_data[image_url] = thumb_caption\n",
        "\n",
        "# Print the image URLs and thumb captions\n",
        "for image_url, thumb_caption in image_data.items():\n",
        "    print('Image URL:', image_url)\n",
        "    print('Thumb Caption:', thumb_caption)\n",
        "    print()\n",
        "image_data"
      ],
      "metadata": {
        "colab": {
          "base_uri": "https://localhost:8080/"
        },
        "id": "FzZ5PxTXBm6a",
        "outputId": "7f64b0f3-d6e9-4bc6-f97a-6e214a9618d3"
      },
      "execution_count": 7,
      "outputs": [
        {
          "output_type": "stream",
          "name": "stdout",
          "text": [
            "Image URL: https://upload.wikimedia.org/wikipedia/commons/thumb/b/bd/Apple_Garage.jpg/220px-Apple_Garage.jpg\n",
            "Thumb Caption: In 1976, Steve Jobs co-founded Apple in his parents' home on Crist Drive in Los Altos, California.[8] Although it is widely believed that the company was founded in the house's garage, Apple co-founder Steve Wozniak called it \"a bit of a myth\".[9] Jobs and Wozniak did, however, move some operations to the garage when the bedroom became too crowded.[10]\n",
            "\n",
            "Image URL: https://upload.wikimedia.org/wikipedia/commons/thumb/a/a1/Apple_I_Computer.jpg/220px-Apple_I_Computer.jpg\n",
            "Thumb Caption: Apple's first product, the Apple I, designed by Steve Wozniak, was sold as an assembled circuit board and lacked basic features such as a keyboard, monitor, and case. The owner of this unit added a keyboard and wooden case.\n",
            "\n",
            "Image URL: https://upload.wikimedia.org/wikipedia/commons/thumb/b/b1/Apple_II_Plus%2C_Museum_of_the_Moving_Image.jpg/220px-Apple_II_Plus%2C_Museum_of_the_Moving_Image.jpg\n",
            "Thumb Caption: The Apple II Plus, introduced in 1979, designed primarily by Wozniak.\n",
            "\n",
            "Image URL: https://upload.wikimedia.org/wikipedia/commons/thumb/c/cf/Macintosh%2C_Google_NY_office_computer_museum_cropped.png/220px-Macintosh%2C_Google_NY_office_computer_museum_cropped.png\n",
            "Thumb Caption: The Macintosh, released in 1984, is the first mass-market personal computer to feature an integral graphical user interface and mouse.\n",
            "\n",
            "Image URL: https://upload.wikimedia.org/wikipedia/commons/thumb/0/05/Apple_PenLite_prototype%2C_1992.jpg/220px-Apple_PenLite_prototype%2C_1992.jpg\n",
            "Thumb Caption: The PenLite is Apple's first prototype of a tablet computer. Created in 1992, the project was designed to bring the Mac OS to a tablet – but was canceled in favor of the Newton.[60]\n",
            "\n",
            "Image URL: https://upload.wikimedia.org/wikipedia/commons/thumb/d/db/IMac_G3_Bondi_Blue%2C_three-quarters_view.png/129px-IMac_G3_Bondi_Blue%2C_three-quarters_view.png\n",
            "Thumb Caption: iMac\n",
            "\n",
            "Image URL: https://upload.wikimedia.org/wikipedia/commons/thumb/9/9a/MacBook_Pro.jpg/220px-MacBook_Pro.jpg\n",
            "Thumb Caption: The MacBook Pro, Apple's first laptop with an Intel microprocessor, introduced in 2006\n",
            "\n",
            "Image URL: https://upload.wikimedia.org/wikipedia/commons/thumb/4/45/First_iPhone_Macworld_2007_DSCF1283.agr.jpg/220px-First_iPhone_Macworld_2007_DSCF1283.agr.jpg\n",
            "Thumb Caption: Newly announced iPhone on display at the 2007 MacWorld Expo\n",
            "\n",
            "Image URL: https://upload.wikimedia.org/wikipedia/commons/thumb/2/25/M2_Macbook_Air_Midnight_model_-_1.jpg/118px-M2_Macbook_Air_Midnight_model_-_1.jpg\n",
            "Thumb Caption: MacBook Air with M2 chip\n",
            "\n",
            "Image URL: https://upload.wikimedia.org/wikipedia/commons/thumb/f/f0/IPhone_14_Pro_-_2.jpg/110px-IPhone_14_Pro_-_2.jpg\n",
            "Thumb Caption: iPhone 14 Pro\n",
            "\n",
            "Image URL: https://upload.wikimedia.org/wikipedia/commons/thumb/c/c0/IPad_Pro_2020_with_Magic_Keyboard_-_5.jpg/180px-IPad_Pro_2020_with_Magic_Keyboard_-_5.jpg\n",
            "Thumb Caption: iPad Pro (4th generation) with Magic Keyboard\n",
            "\n",
            "Image URL: https://upload.wikimedia.org/wikipedia/commons/thumb/9/9a/Apple_AirPods_Max_6.jpg/130px-Apple_AirPods_Max_6.jpg\n",
            "Thumb Caption: AirPods Max\n",
            "\n",
            "Image URL: https://upload.wikimedia.org/wikipedia/commons/thumb/8/84/Apple_Computer_Logo_rainbow.svg/170px-Apple_Computer_Logo_rainbow.svg.png\n",
            "Thumb Caption: The first official logo of Apple Inc. (1977–1998)[191]\n",
            "\n",
            "Image URL: https://upload.wikimedia.org/wikipedia/commons/thumb/0/0c/Apple_store_fifth_avenue.jpg/220px-Apple_store_fifth_avenue.jpg\n",
            "Thumb Caption: Apple Fifth Avenue, the flagship store in New York City\n",
            "\n",
            "Image URL: https://upload.wikimedia.org/wikipedia/commons/thumb/6/6a/Apple_Genius_Bar_Regentstreet_London.jpg/220px-Apple_Genius_Bar_Regentstreet_London.jpg\n",
            "Thumb Caption: The Genius Bar at Apple's Regent Street store in London\n",
            "\n",
            "Image URL: https://upload.wikimedia.org/wikipedia/commons/thumb/f/fb/Prism-slide-8.jpg/220px-Prism-slide-8.jpg\n",
            "Thumb Caption: PRISM: a clandestine surveillance program under which the NSA collects user data from companies like Facebook and Apple[221]\n",
            "\n",
            "Image URL: https://upload.wikimedia.org/wikipedia/commons/thumb/0/0c/Steve_Wozniak_and_Andy_Hertzfeld_1985.jpg/220px-Steve_Wozniak_and_Andy_Hertzfeld_1985.jpg\n",
            "Thumb Caption: Co-founder Steve Wozniak and engineer Andy Hertzfeld at the Apple User Group Connection club in 1985\n",
            "\n",
            "Image URL: https://upload.wikimedia.org/wikipedia/commons/thumb/e/e9/Colleges_with_the_most_alumni_at_Apple.png/280px-Colleges_with_the_most_alumni_at_Apple.png\n",
            "Thumb Caption: Universities with the most alumni at Apple\n",
            "\n",
            "Image URL: https://upload.wikimedia.org/wikipedia/commons/thumb/e/eb/Apple_park_cupertino_2019.jpg/220px-Apple_park_cupertino_2019.jpg\n",
            "Thumb Caption: Apple Park\n",
            "\n",
            "Image URL: https://upload.wikimedia.org/wikipedia/commons/thumb/b/b0/Apple_Headquarters_in_Cupertino.jpg/220px-Apple_Headquarters_in_Cupertino.jpg\n",
            "Thumb Caption: Apple Campus (1 Infinite Loop)\n",
            "\n"
          ]
        },
        {
          "output_type": "execute_result",
          "data": {
            "text/plain": [
              "{'https://upload.wikimedia.org/wikipedia/commons/thumb/b/bd/Apple_Garage.jpg/220px-Apple_Garage.jpg': 'In 1976, Steve Jobs co-founded Apple in his parents\\' home on Crist Drive in Los Altos, California.[8] Although it is widely believed that the company was founded in the house\\'s garage, Apple co-founder Steve Wozniak called it \"a bit of a myth\".[9] Jobs and Wozniak did, however, move some operations to the garage when the bedroom became too crowded.[10]',\n",
              " 'https://upload.wikimedia.org/wikipedia/commons/thumb/a/a1/Apple_I_Computer.jpg/220px-Apple_I_Computer.jpg': \"Apple's first product, the Apple I, designed by Steve Wozniak, was sold as an assembled circuit board and lacked basic features such as a keyboard, monitor, and case. The owner of this unit added a keyboard and wooden case.\",\n",
              " 'https://upload.wikimedia.org/wikipedia/commons/thumb/b/b1/Apple_II_Plus%2C_Museum_of_the_Moving_Image.jpg/220px-Apple_II_Plus%2C_Museum_of_the_Moving_Image.jpg': 'The Apple II Plus, introduced in 1979, designed primarily by Wozniak.',\n",
              " 'https://upload.wikimedia.org/wikipedia/commons/thumb/c/cf/Macintosh%2C_Google_NY_office_computer_museum_cropped.png/220px-Macintosh%2C_Google_NY_office_computer_museum_cropped.png': 'The Macintosh, released in 1984, is the first mass-market personal computer to feature an integral graphical user interface and mouse.',\n",
              " 'https://upload.wikimedia.org/wikipedia/commons/thumb/0/05/Apple_PenLite_prototype%2C_1992.jpg/220px-Apple_PenLite_prototype%2C_1992.jpg': \"The PenLite is Apple's first prototype of a tablet computer. Created in 1992, the project was designed to bring the Mac OS to a tablet – but was canceled in favor of the Newton.[60]\",\n",
              " 'https://upload.wikimedia.org/wikipedia/commons/thumb/d/db/IMac_G3_Bondi_Blue%2C_three-quarters_view.png/129px-IMac_G3_Bondi_Blue%2C_three-quarters_view.png': 'iMac',\n",
              " 'https://upload.wikimedia.org/wikipedia/commons/thumb/9/9a/MacBook_Pro.jpg/220px-MacBook_Pro.jpg': \"The MacBook Pro, Apple's first laptop with an Intel microprocessor, introduced in 2006\",\n",
              " 'https://upload.wikimedia.org/wikipedia/commons/thumb/4/45/First_iPhone_Macworld_2007_DSCF1283.agr.jpg/220px-First_iPhone_Macworld_2007_DSCF1283.agr.jpg': 'Newly announced iPhone on display at the 2007 MacWorld Expo',\n",
              " 'https://upload.wikimedia.org/wikipedia/commons/thumb/2/25/M2_Macbook_Air_Midnight_model_-_1.jpg/118px-M2_Macbook_Air_Midnight_model_-_1.jpg': 'MacBook Air with M2 chip',\n",
              " 'https://upload.wikimedia.org/wikipedia/commons/thumb/f/f0/IPhone_14_Pro_-_2.jpg/110px-IPhone_14_Pro_-_2.jpg': 'iPhone 14 Pro',\n",
              " 'https://upload.wikimedia.org/wikipedia/commons/thumb/c/c0/IPad_Pro_2020_with_Magic_Keyboard_-_5.jpg/180px-IPad_Pro_2020_with_Magic_Keyboard_-_5.jpg': 'iPad Pro (4th generation) with Magic Keyboard',\n",
              " 'https://upload.wikimedia.org/wikipedia/commons/thumb/9/9a/Apple_AirPods_Max_6.jpg/130px-Apple_AirPods_Max_6.jpg': 'AirPods Max',\n",
              " 'https://upload.wikimedia.org/wikipedia/commons/thumb/8/84/Apple_Computer_Logo_rainbow.svg/170px-Apple_Computer_Logo_rainbow.svg.png': 'The first official logo of Apple Inc. (1977–1998)[191]',\n",
              " 'https://upload.wikimedia.org/wikipedia/commons/thumb/0/0c/Apple_store_fifth_avenue.jpg/220px-Apple_store_fifth_avenue.jpg': 'Apple Fifth Avenue, the flagship store in New York City',\n",
              " 'https://upload.wikimedia.org/wikipedia/commons/thumb/6/6a/Apple_Genius_Bar_Regentstreet_London.jpg/220px-Apple_Genius_Bar_Regentstreet_London.jpg': \"The Genius Bar at Apple's Regent Street store in London\",\n",
              " 'https://upload.wikimedia.org/wikipedia/commons/thumb/f/fb/Prism-slide-8.jpg/220px-Prism-slide-8.jpg': 'PRISM: a clandestine surveillance program under which the NSA collects user data from companies like Facebook and Apple[221]',\n",
              " 'https://upload.wikimedia.org/wikipedia/commons/thumb/0/0c/Steve_Wozniak_and_Andy_Hertzfeld_1985.jpg/220px-Steve_Wozniak_and_Andy_Hertzfeld_1985.jpg': 'Co-founder Steve Wozniak and engineer Andy Hertzfeld at the Apple User Group Connection club in 1985',\n",
              " 'https://upload.wikimedia.org/wikipedia/commons/thumb/e/e9/Colleges_with_the_most_alumni_at_Apple.png/280px-Colleges_with_the_most_alumni_at_Apple.png': 'Universities with the most alumni at Apple',\n",
              " 'https://upload.wikimedia.org/wikipedia/commons/thumb/e/eb/Apple_park_cupertino_2019.jpg/220px-Apple_park_cupertino_2019.jpg': 'Apple Park',\n",
              " 'https://upload.wikimedia.org/wikipedia/commons/thumb/b/b0/Apple_Headquarters_in_Cupertino.jpg/220px-Apple_Headquarters_in_Cupertino.jpg': 'Apple Campus (1 Infinite Loop)'}"
            ]
          },
          "metadata": {},
          "execution_count": 7
        }
      ]
    },
    {
      "cell_type": "markdown",
      "source": [
        "This version of the code checks all images in the webpage content and If the \"beautifulsoup\" is not able to find the name of the image or caption it replaces with the wikipedia page name. The Link and caption are Stored in a dictonary named \"image_data\""
      ],
      "metadata": {
        "id": "OVnZVW-zGAOT"
      }
    },
    {
      "cell_type": "code",
      "source": [
        "from urllib.request import urlopen\n",
        "from bs4 import BeautifulSoup\n",
        "import re\n",
        "\n",
        "html = urlopen('https://en.wikipedia.org/wiki/Apple_Inc.')\n",
        "soup = BeautifulSoup(html, 'html.parser')\n",
        "images = soup.find_all('img', {'src': re.compile('.jpg')})\n",
        "\n",
        "image_data = {}\n",
        "\n",
        "for image in images:\n",
        "    parent_div = image.parent\n",
        "    thumb_caption = parent_div.find_next_sibling('div', class_='thumbcaption')\n",
        "    if thumb_caption:\n",
        "        caption_text = thumb_caption.get_text(strip=True)\n",
        "    else:\n",
        "        infobox = soup.find('table', class_='infobox')\n",
        "        infobox_caption = infobox.find('caption') if infobox else None\n",
        "        caption_text = infobox_caption.get_text(strip=True) if infobox_caption else image.get('alt', '')\n",
        "\n",
        "    image_url = 'https:' + image['src']\n",
        "    image_data[image_url] = caption_text\n",
        "\n",
        "# Print the image URLs and captions stored in the dictionary\n",
        "for image_url, caption in image_data.items():\n",
        "    print('Image URL:', image_url)\n",
        "    print('Caption:', caption)\n",
        "    print()\n",
        "image_data"
      ],
      "metadata": {
        "colab": {
          "base_uri": "https://localhost:8080/"
        },
        "id": "uzVN_jMLF60d",
        "outputId": "9a85818a-ace0-42e9-c522-15deeae8e1a7"
      },
      "execution_count": 15,
      "outputs": [
        {
          "output_type": "stream",
          "name": "stdout",
          "text": [
            "Image URL: https://upload.wikimedia.org/wikipedia/commons/thumb/5/5a/Aerial_view_of_Apple_Park_dllu.jpg/250px-Aerial_view_of_Apple_Park_dllu.jpg\n",
            "Caption: Apple Inc.\n",
            "\n",
            "Image URL: https://upload.wikimedia.org/wikipedia/commons/thumb/b/bd/Apple_Garage.jpg/220px-Apple_Garage.jpg\n",
            "Caption: In 1976,Steve Jobsco-founded Apple in his parents' home on Crist Drive inLos Altos, California.[8]Although it is widely believed that the company was founded in the house's garage, Apple co-founderSteve Wozniakcalled it \"a bit of a myth\".[9]Jobs and Wozniak did, however, move some operations to the garage when the bedroom became too crowded.[10]\n",
            "\n",
            "Image URL: https://upload.wikimedia.org/wikipedia/commons/thumb/a/a1/Apple_I_Computer.jpg/220px-Apple_I_Computer.jpg\n",
            "Caption: Apple's first product, theApple I, designed by Steve Wozniak, was sold as an assembled circuit board and lacked basic features such as a keyboard, monitor, and case. The owner of this unit added a keyboard and wooden case.\n",
            "\n",
            "Image URL: https://upload.wikimedia.org/wikipedia/commons/thumb/b/b1/Apple_II_Plus%2C_Museum_of_the_Moving_Image.jpg/220px-Apple_II_Plus%2C_Museum_of_the_Moving_Image.jpg\n",
            "Caption: TheApple II Plus, introduced in 1979, designed primarily by Wozniak.\n",
            "\n",
            "Image URL: https://upload.wikimedia.org/wikipedia/commons/thumb/0/05/Apple_PenLite_prototype%2C_1992.jpg/220px-Apple_PenLite_prototype%2C_1992.jpg\n",
            "Caption: ThePenLiteis Apple's first prototype of a tablet computer. Created in 1992, the project was designed to bring the Mac OS to a tablet – but was canceled in favor of theNewton.[60]\n",
            "\n",
            "Image URL: https://upload.wikimedia.org/wikipedia/commons/thumb/e/e9/Clamshell_iBook_G3.jpg/105px-Clamshell_iBook_G3.jpg\n",
            "Caption: Apple Inc.\n",
            "\n",
            "Image URL: https://upload.wikimedia.org/wikipedia/commons/thumb/7/77/Apple_PowerBook_G3_500_Pismo-2763.jpg/104px-Apple_PowerBook_G3_500_Pismo-2763.jpg\n",
            "Caption: Apple Inc.\n",
            "\n",
            "Image URL: https://upload.wikimedia.org/wikipedia/commons/thumb/9/9a/MacBook_Pro.jpg/220px-MacBook_Pro.jpg\n",
            "Caption: TheMacBook Pro, Apple's first laptop with anIntelmicroprocessor, introduced in 2006\n",
            "\n",
            "Image URL: https://upload.wikimedia.org/wikipedia/commons/thumb/4/45/First_iPhone_Macworld_2007_DSCF1283.agr.jpg/220px-First_iPhone_Macworld_2007_DSCF1283.agr.jpg\n",
            "Caption: Newly announced iPhone on display at the 2007MacWorld Expo\n",
            "\n",
            "Image URL: https://upload.wikimedia.org/wikipedia/commons/thumb/2/25/M2_Macbook_Air_Midnight_model_-_1.jpg/118px-M2_Macbook_Air_Midnight_model_-_1.jpg\n",
            "Caption: Apple Inc.\n",
            "\n",
            "Image URL: https://upload.wikimedia.org/wikipedia/commons/thumb/c/c2/M1_iMac_blue_model_%28cropped%29.jpg/116px-M1_iMac_blue_model_%28cropped%29.jpg\n",
            "Caption: Apple Inc.\n",
            "\n",
            "Image URL: https://upload.wikimedia.org/wikipedia/commons/thumb/f/f0/IPhone_14_Pro_-_2.jpg/110px-IPhone_14_Pro_-_2.jpg\n",
            "Caption: iPhone 14 Pro\n",
            "\n",
            "Image URL: https://upload.wikimedia.org/wikipedia/commons/thumb/c/c0/IPad_Pro_2020_with_Magic_Keyboard_-_5.jpg/180px-IPad_Pro_2020_with_Magic_Keyboard_-_5.jpg\n",
            "Caption: iPad Pro (4th generation)withMagic Keyboard\n",
            "\n",
            "Image URL: https://upload.wikimedia.org/wikipedia/commons/thumb/9/9a/Apple_AirPods_Max_6.jpg/130px-Apple_AirPods_Max_6.jpg\n",
            "Caption: Apple Inc.\n",
            "\n",
            "Image URL: https://upload.wikimedia.org/wikipedia/commons/thumb/9/91/Apple_Watch_Ultra_-_2.jpg/104px-Apple_Watch_Ultra_-_2.jpg\n",
            "Caption: Apple Inc.\n",
            "\n",
            "Image URL: https://upload.wikimedia.org/wikipedia/commons/thumb/0/0c/Apple_store_fifth_avenue.jpg/220px-Apple_store_fifth_avenue.jpg\n",
            "Caption: Apple Fifth Avenue, the flagship store inNew York City\n",
            "\n",
            "Image URL: https://upload.wikimedia.org/wikipedia/commons/thumb/6/6a/Apple_Genius_Bar_Regentstreet_London.jpg/220px-Apple_Genius_Bar_Regentstreet_London.jpg\n",
            "Caption: TheGenius Barat Apple'sRegent Streetstore inLondon\n",
            "\n",
            "Image URL: https://upload.wikimedia.org/wikipedia/commons/thumb/f/fb/Prism-slide-8.jpg/220px-Prism-slide-8.jpg\n",
            "Caption: PRISM: aclandestinesurveillanceprogram under which theNSAcollects user data from companies like Facebook and Apple[221]\n",
            "\n",
            "Image URL: https://upload.wikimedia.org/wikipedia/commons/thumb/0/0c/Steve_Wozniak_and_Andy_Hertzfeld_1985.jpg/220px-Steve_Wozniak_and_Andy_Hertzfeld_1985.jpg\n",
            "Caption: Co-founderSteve Wozniakand engineerAndy Hertzfeldat theApple User Group Connectionclub in 1985\n",
            "\n",
            "Image URL: https://upload.wikimedia.org/wikipedia/commons/thumb/e/eb/Apple_park_cupertino_2019.jpg/220px-Apple_park_cupertino_2019.jpg\n",
            "Caption: Apple Park\n",
            "\n",
            "Image URL: https://upload.wikimedia.org/wikipedia/commons/thumb/b/b0/Apple_Headquarters_in_Cupertino.jpg/220px-Apple_Headquarters_in_Cupertino.jpg\n",
            "Caption: Apple Campus (1 Infinite Loop)\n",
            "\n",
            "Image URL: https://upload.wikimedia.org/wikipedia/commons/thumb/b/b9/Steve_Jobs_Headshot_2010-CROP.jpg/100px-Steve_Jobs_Headshot_2010-CROP.jpg\n",
            "Caption: Apple Inc.\n",
            "\n",
            "Image URL: https://upload.wikimedia.org/wikipedia/commons/thumb/d/da/SF_From_Marin_Highlands3.jpg/21px-SF_From_Marin_Highlands3.jpg\n",
            "Caption: Apple Inc.\n",
            "\n"
          ]
        },
        {
          "output_type": "execute_result",
          "data": {
            "text/plain": [
              "{'https://upload.wikimedia.org/wikipedia/commons/thumb/5/5a/Aerial_view_of_Apple_Park_dllu.jpg/250px-Aerial_view_of_Apple_Park_dllu.jpg': 'Apple Inc.',\n",
              " 'https://upload.wikimedia.org/wikipedia/commons/thumb/b/bd/Apple_Garage.jpg/220px-Apple_Garage.jpg': 'In 1976,Steve Jobsco-founded Apple in his parents\\' home on Crist Drive inLos Altos, California.[8]Although it is widely believed that the company was founded in the house\\'s garage, Apple co-founderSteve Wozniakcalled it \"a bit of a myth\".[9]Jobs and Wozniak did, however, move some operations to the garage when the bedroom became too crowded.[10]',\n",
              " 'https://upload.wikimedia.org/wikipedia/commons/thumb/a/a1/Apple_I_Computer.jpg/220px-Apple_I_Computer.jpg': \"Apple's first product, theApple I, designed by Steve Wozniak, was sold as an assembled circuit board and lacked basic features such as a keyboard, monitor, and case. The owner of this unit added a keyboard and wooden case.\",\n",
              " 'https://upload.wikimedia.org/wikipedia/commons/thumb/b/b1/Apple_II_Plus%2C_Museum_of_the_Moving_Image.jpg/220px-Apple_II_Plus%2C_Museum_of_the_Moving_Image.jpg': 'TheApple II Plus, introduced in 1979, designed primarily by Wozniak.',\n",
              " 'https://upload.wikimedia.org/wikipedia/commons/thumb/0/05/Apple_PenLite_prototype%2C_1992.jpg/220px-Apple_PenLite_prototype%2C_1992.jpg': \"ThePenLiteis Apple's first prototype of a tablet computer. Created in 1992, the project was designed to bring the Mac OS to a tablet – but was canceled in favor of theNewton.[60]\",\n",
              " 'https://upload.wikimedia.org/wikipedia/commons/thumb/e/e9/Clamshell_iBook_G3.jpg/105px-Clamshell_iBook_G3.jpg': 'Apple Inc.',\n",
              " 'https://upload.wikimedia.org/wikipedia/commons/thumb/7/77/Apple_PowerBook_G3_500_Pismo-2763.jpg/104px-Apple_PowerBook_G3_500_Pismo-2763.jpg': 'Apple Inc.',\n",
              " 'https://upload.wikimedia.org/wikipedia/commons/thumb/9/9a/MacBook_Pro.jpg/220px-MacBook_Pro.jpg': \"TheMacBook Pro, Apple's first laptop with anIntelmicroprocessor, introduced in 2006\",\n",
              " 'https://upload.wikimedia.org/wikipedia/commons/thumb/4/45/First_iPhone_Macworld_2007_DSCF1283.agr.jpg/220px-First_iPhone_Macworld_2007_DSCF1283.agr.jpg': 'Newly announced iPhone on display at the 2007MacWorld Expo',\n",
              " 'https://upload.wikimedia.org/wikipedia/commons/thumb/2/25/M2_Macbook_Air_Midnight_model_-_1.jpg/118px-M2_Macbook_Air_Midnight_model_-_1.jpg': 'Apple Inc.',\n",
              " 'https://upload.wikimedia.org/wikipedia/commons/thumb/c/c2/M1_iMac_blue_model_%28cropped%29.jpg/116px-M1_iMac_blue_model_%28cropped%29.jpg': 'Apple Inc.',\n",
              " 'https://upload.wikimedia.org/wikipedia/commons/thumb/f/f0/IPhone_14_Pro_-_2.jpg/110px-IPhone_14_Pro_-_2.jpg': 'iPhone 14 Pro',\n",
              " 'https://upload.wikimedia.org/wikipedia/commons/thumb/c/c0/IPad_Pro_2020_with_Magic_Keyboard_-_5.jpg/180px-IPad_Pro_2020_with_Magic_Keyboard_-_5.jpg': 'iPad Pro (4th generation)withMagic Keyboard',\n",
              " 'https://upload.wikimedia.org/wikipedia/commons/thumb/9/9a/Apple_AirPods_Max_6.jpg/130px-Apple_AirPods_Max_6.jpg': 'Apple Inc.',\n",
              " 'https://upload.wikimedia.org/wikipedia/commons/thumb/9/91/Apple_Watch_Ultra_-_2.jpg/104px-Apple_Watch_Ultra_-_2.jpg': 'Apple Inc.',\n",
              " 'https://upload.wikimedia.org/wikipedia/commons/thumb/0/0c/Apple_store_fifth_avenue.jpg/220px-Apple_store_fifth_avenue.jpg': 'Apple Fifth Avenue, the flagship store inNew York City',\n",
              " 'https://upload.wikimedia.org/wikipedia/commons/thumb/6/6a/Apple_Genius_Bar_Regentstreet_London.jpg/220px-Apple_Genius_Bar_Regentstreet_London.jpg': \"TheGenius Barat Apple'sRegent Streetstore inLondon\",\n",
              " 'https://upload.wikimedia.org/wikipedia/commons/thumb/f/fb/Prism-slide-8.jpg/220px-Prism-slide-8.jpg': 'PRISM: aclandestinesurveillanceprogram under which theNSAcollects user data from companies like Facebook and Apple[221]',\n",
              " 'https://upload.wikimedia.org/wikipedia/commons/thumb/0/0c/Steve_Wozniak_and_Andy_Hertzfeld_1985.jpg/220px-Steve_Wozniak_and_Andy_Hertzfeld_1985.jpg': 'Co-founderSteve Wozniakand engineerAndy Hertzfeldat theApple User Group Connectionclub in 1985',\n",
              " 'https://upload.wikimedia.org/wikipedia/commons/thumb/e/eb/Apple_park_cupertino_2019.jpg/220px-Apple_park_cupertino_2019.jpg': 'Apple Park',\n",
              " 'https://upload.wikimedia.org/wikipedia/commons/thumb/b/b0/Apple_Headquarters_in_Cupertino.jpg/220px-Apple_Headquarters_in_Cupertino.jpg': 'Apple Campus (1 Infinite Loop)',\n",
              " 'https://upload.wikimedia.org/wikipedia/commons/thumb/b/b9/Steve_Jobs_Headshot_2010-CROP.jpg/100px-Steve_Jobs_Headshot_2010-CROP.jpg': 'Apple Inc.',\n",
              " 'https://upload.wikimedia.org/wikipedia/commons/thumb/d/da/SF_From_Marin_Highlands3.jpg/21px-SF_From_Marin_Highlands3.jpg': 'Apple Inc.'}"
            ]
          },
          "metadata": {},
          "execution_count": 15
        }
      ]
    }
  ]
}