{
  "nbformat": 4,
  "nbformat_minor": 0,
  "metadata": {
    "colab": {
      "provenance": []
    },
    "kernelspec": {
      "name": "python3",
      "display_name": "Python 3"
    },
    "language_info": {
      "name": "python"
    }
  },
  "cells": [
    {
      "cell_type": "markdown",
      "source": [
        "Code with citenote included"
      ],
      "metadata": {
        "id": "mq3kHMuTGBqw"
      }
    },
    {
      "cell_type": "code",
      "source": [
        "import requests\n",
        "from bs4 import BeautifulSoup\n",
        "import re\n",
        "import html\n",
        "# import unicodedata\n",
        "# from nltk.tokenize import word_tokenize\n",
        "links = [\n",
        "    'https://en.wikipedia.org/wiki/Apple_Inc.',\n",
        "    'https://en.wikipedia.org/wiki/Microsoft',\n",
        "    'https://en.wikipedia.org/wiki/Google',\n",
        "    'https://en.wikipedia.org/wiki/Amazon_(company)',\n",
        "    'https://en.wikipedia.org/wiki/Facebook',\n",
        "    'https://en.wikipedia.org/wiki/Tesla,_Inc.',\n",
        "    'https://en.wikipedia.org/wiki/Netflix',\n",
        "    'https://en.wikipedia.org/wiki/SpaceX',\n",
        "    'https://en.wikipedia.org/wiki/Instagram',\n",
        "    'https://en.wikipedia.org/wiki/WhatsApp'\n",
        "]\n",
        "\n",
        "# Create an empty list to store the extracted words\n",
        "text = []\n",
        "\n",
        "# Iterate over each link and extract the words\n",
        "for url in links:\n",
        "    # Send a GET request to the URL and retrieve the HTML content\n",
        "    response = requests.get(url)\n",
        "    html_content = response.text\n",
        "\n",
        "    # Create a BeautifulSoup object to parse the HTML\n",
        "    soup = BeautifulSoup(html_content, 'html.parser')\n",
        "\n",
        "    # Find the infobox element by its class or ID\n",
        "    infobox = soup.find('table', {'class': 'infobox'})\n",
        "\n",
        "    # Extract the key and words from the infobox\n",
        "    key_words = \"\"\n",
        "    if infobox:\n",
        "        rows = infobox.find_all('tr')\n",
        "        for row in rows:\n",
        "            cells = row.find_all(['th', 'td'])\n",
        "            if len(cells) >= 2:\n",
        "                key = cells[0].get_text().strip()\n",
        "                value = cells[1].get_text(strip=True, separator=' ') # Remove extra spaces within the text\n",
        "                value = html.unescape(value)  # Decode HTML entities and escape sequences\n",
        "                value = re.sub(r'\\s+', ' ', value)  # Replace multiple consecutive spaces with a single space\n",
        "                value = value.replace('\\ufeff', '')\n",
        "                value = value.replace('/', '')\n",
        "                # Exclude text within anchor tags\n",
        "                value = re.sub(r'<a\\b[^>]*>.*?</a>','', value)\n",
        "                # value=value.replace('\\xa0',' ') \n",
        "                # words = word_tokenize(value)\n",
        "                # key_words=key_words+\" \"+key+\" \"+value\n",
        "                # key_words.append((key, words))\n",
        "                # print(key+\":\"+\" \"+value)\n",
        "                key_words+= key+\":\"+\" \"+value+\" \"\n",
        "    # print(key_words)\n",
        "    text.append(key_words)\n",
        "    # Append the extracted words to the text list as a sublist\n",
        "#     url_text = []\n",
        "#     for key, words in key_words:\n",
        "#       url_text.append(key)\n",
        "#       url_text.extend(words)\n",
        "#     text.append(url_text)\n",
        "\n",
        "# # Print the extracted words from all the links\n",
        "# for url_text in text:\n",
        "#     print(url_text)\n",
        "# print(text)\n",
        "result = []\n",
        "for string in text:\n",
        "    string = string.replace('\\xa0', ' ')\n",
        "    result.append(string)\n",
        "\n",
        "print(result)"
      ],
      "metadata": {
        "colab": {
          "base_uri": "https://localhost:8080/"
        },
        "id": "6ktc0ceOjEJp",
        "outputId": "67654d88-dee2-4c80-c846-644af8bb6f6b"
      },
      "execution_count": 30,
      "outputs": [
        {
          "output_type": "stream",
          "name": "stdout",
          "text": [
            "['Formerly: Apple Computer Company (1976–1977) Apple Computer, Inc. (1977–2007) Type: Public Traded as: Nasdaq : AAPL Nasdaq-100 component DJIA component S&P 100 component S&P 500 component ISIN: US0378331005 Industry: Consumer electronics Software services Online services Founded: April 1, 1976 ; 47 years ago ( 1976-04-01 ) in Los Altos, California , U.S. Founders: Steve Jobs Steve Wozniak Ronald Wayne Headquarters: 1 Apple Park Way , Cupertino, California , U.S. 37°20′06″N 122°00′32″W    37.3349°N 122.0090°W   37.3349; -122.0090 Number of locations: 525 retail stores (2023) Area served: Worldwide Key people: Arthur D. Levinson ( chairman ) Tim Cook ( CEO ) Jeff Williams ( COO ) Luca Maestri ( CFO ) Products: AirPods Apple Watch iPad iPhone Mac Full list Services: App Store Apple Card Apple Music Apple TV+ Apple Pay Revenue: US$ 394.33 billion (2022) Operating income: US$119.44 billion (2022) Net income: US$99.80 billion (2022) Total assets: US$352.76 billion (2022) Total equity: US$50.67 billion (2022) Number of employees: 164,000 (2022) Subsidiaries: Apple Studios Beats Electronics Beddit Braeburn Capital Claris Drive.ai InVisage Technologies Website: www .apple .com ', 'Type: Public Traded as: Nasdaq : MSFT Nasdaq-100 component DJIA component S&P 100 component S&P 500 component ISIN: US5949181045 Industry: Information technology Founded: April 4, 1975 ; 48 years ago ( 1975-04-04 ) in Albuquerque, New Mexico , U.S. Founders: Bill Gates Paul Allen Headquarters: One Microsoft Way Redmond, Washington , U.S. Area served: Worldwide Key people: Satya Nadella ( Chairman and CEO ) Brad Smith (vice chairman and president) Bill Gates (technical adviser and founder) Products: Software development Computer hardware Consumer electronics Social networking service Cloud computing Video games Internet Corporate venture capital Brands: Windows Office Skype Visual Studio Bethesda Dynamics Xbox Minecraft Surface Services: Azure Bing LinkedIn Yammer Microsoft 365 OneDrive Outlook.com GitHub Microsoft Store Windows Update Xbox Game Pass Xbox network Revenue: US$ 198.3 billion (2022) Operating income: US$83.4 billion (2022) Net income: US$72.7 billion (2022) Total assets: US$364.8 billion (2022) Total equity: US$166.5 billion (2022) Number of employees: 221,000 (2022) Divisions: Microsoft Engineering Groups Microsoft Digital Crimes Unit Microsoft Press Subsidiaries: GitHub LinkedIn Metaswitch Nuance Communications RiskIQ Skype Technologies Xamarin Xandr Website: microsoft.com ', 'Formerly: Google Inc. (1998–2017) Type: Subsidiary ( LLC ) Industry: Artificial intelligence Advertising Cloud computing Computer software Computer hardware Internet Founded: September 4, 1998 ; 24 years ago ( 1998-09-04 ) [a] in Menlo Park , California , United States Founders: Larry Page Sergey Brin Headquarters: 1600 Amphitheatre Parkway , Mountain View, California , U.S. Area served: Worldwide Key people: Sundar Pichai ( CEO ) Ruth Porat ( CFO ) Thomas Kurian ( CEO of Google Cloud ) Products: Workspace Android Waze Pixel Nest Full list Number of employees: 139,995 (2021) Parent: Alphabet Inc Subsidiaries: YouTube LLC Website: about.google google.com ', 'Trade name: Amazon Formerly: Cadabra, Inc. (1994–1995) Type: Public Traded as: Nasdaq : AMZN Nasdaq-100 component S&P 100 component S&P 500 component ISIN: US0231351067 Industry: Conglomerate Founded: July 5, 1994 ; 28 years ago ( 1994-07-05 ) Bellevue, Washington , U.S. Founder: Jeff Bezos Headquarters: Seattle, Washington and Arlington, Virginia , U.S. Area served: Worldwide Key people: Jeff Bezos ( Chairman ) Andy Jassy ( President and CEO ) Products: Echo Fire Tablet Fire TV Fire OS Kindle Services: Amazon.com Amazon Alexa Amazon Appstore Amazon Luna Amazon Music Amazon Pay Amazon Prime Amazon Prime Video Twitch Ring Amazon Web Services Revenue: US$513.98 billion (2022) Operating income: US$12.25 billion (2022) Net income: US$−2.72 billion (2022) Total assets: US$462.68 billion (2022) Total equity: US$146.04 billion (2022) Owner: Jeff Bezos (9.8%) Number of employees: 1,541,000 (December 2022) U.S.: 950,000 (June 2021) Subsidiaries: List A9.com AbeBooks Alexa Internet Amazon.com Amazon Air Amazon Books Amazon Fresh Amazon Games Amazon Lab126 Amazon Logistics Amazon Pharmacy Amazon Publishing Amazon Robotics Amazon Studios AWS Audible Blink Body Labs Book Depository ComiXology Digital Photography Review Eero LLC Goodreads Graphiq IMDb MGM Holdings PillPack Ring Souq.com Twitch Interactive Whole Foods Market Woot Zappos Zoox Website: www .amazon .com ', 'Type of site: Social networking service Publisher Available in: 112 languages [1] Founded: February 4, 2004 ; 19 years ago ( 2004-02-04 ) in Cambridge, Massachusetts Area served: Worldwide, except blocking countries Owner: Meta Platforms Founder(s): Mark Zuckerberg Dustin Moskovitz Chris Hughes Andrew McCollum Eduardo Saverin CEO: Mark Zuckerberg URL: facebook .com Registration: Required (to do any activity) Users: 2.94 billion monthly active users (as of 31 March 2022 [update] ) [2] Launched: February 4, 2004 ; 19 years ago ( 2004-02-04 ) Current status: Active Written in: C++ , Hack (as HHVM ) ', 'Formerly: Tesla Motors (2003–2017) Type: Public Traded as: Nasdaq : TSLA Nasdaq-100 component S&P 100 component S&P 500 component ISIN: US88160R1014 Industry: Automotive Renewable energy Founded: July 1, 2003 ; 19 years ago ( 2003-07-01 ) in San Carlos, California , U.S. Founders: See § Founding Headquarters: 13101 Tesla Road , Austin, Texas , U.S. Number of locations: 764 retail storesgalleries and service centers (2022) Area served: East Asia Europe Middle East North America Oceania Southeast Asia Key people: Elon Musk (CEO) Robyn Denholm (chair) Products: Model 3 Model S Model X Model Y Semi Powerwall , Powerpack , and Megapack solar panels and Solar Roof Production output: 1,369,611 vehicles (2022) 6.54 GWh battery energy storage systems (2022) 348 MW solar (2022) Services: Service charging insurance connectivity Revenue: US$81.46 billion (2022) Operating income: US$13.66 billion (2022) Net income: US$12.56 billion (2022) Total assets: US$82.34 billion (2022) Total equity: US$44.70 billion (2022) Owner: Elon Musk (20.6%) [1] Number of employees: 127,855 (2022) Subsidiaries: Tesla Energy Tesla Automation Website: www .tesla .com ', 'Type of site: OTT streaming platform Available in: List Arabic ( Egyptian and Modern Standard ) Catalan (content only) Chinese ( Cantonese and Mandarin ) Croatian Czech Danish Dutch English ( American and British ) Filipino Finnish French German Greek Hebrew Hindi [1] Hungarian Indonesian [2] Italian Japanese Kannada Korean Malay Malayalam Marathi (Content only) Norwegian ( Bokmål ) Polish Portuguese ( Brazilian and European ) Romanian Russian Serbian (content only) Spanish ( European and Latin American ) Swedish Tamil Telugu Thai Turkish Ukrainian Urdu (content only) Vietnamese Headquarters: Los Gatos, California , U.S. Country of origin: United States Area served: Worldwide (excluding Mainland China , North Korea , Russia and Syria ) [3] [4] Parent: Netflix, Inc. URL: www .netflix .com Commercial: Yes Registration: Required Users: 232.5 million (31 March 2023) Launched: 16 January 2007 ; 16 years ago ( 2007-01-16 ) Current status: Active ', 'Trade name: SpaceX Type: Private Industry: Space industry Communications Founded: March 14, 2002 ; 21 years ago ( 2002-03-14 ) in El Segundo, California , U.S. [1] Founder: Elon Musk Headquarters: Hawthorne, California , United States Key people: Elon Musk ( CEO , chairman & CTO ) [2] Gwynne Shotwell (president & COO ) [3] Products: Launch vehicles Rocket engines Dragon capsules Satellite constellation Starlink and SpaceBEE Services: Orbital rocket launch Satellite internet Revenue: $2 billion (2018) [4] Owner: Elon Musk Trust (47.4% equity; 78.3% voting control) [5] Number of employees: 12,000 [6] (April 2022) Subsidiaries: Swarm Technologies Website: www .spacex .com ', 'Original author(s): Kevin Systrom Mike Krieger Developer(s): Meta Platforms Initial release: October 6, 2010 ; 12 years ago ( 2010-10-06 ) Android (Alpha)358.0.0.0.19 / October 15, 2022; 7 months ago (2022-10-15)[1]Android (Beta)257.0.0.14.110 / October 15, 2022; 7 months ago (2022-10-15)[1]: Android ( Alpha ) Android (Alpha): 358.0.0.0.19  October 15, 2022 ; 7 months ago ( 2022-10-15 ) [1] Android (Beta): 257.0.0.14.110  October 15, 2022 ; 7 months ago ( 2022-10-15 ) [1] Operating system: iOS Android Fire OS Microsoft Windows Size: 231.3 MB (iOS) [2] 50.22 MB (Android) [3] 50.3 MB (Fire OS) [4] Available in: 32 [5] languages License: Proprietary software with Terms of Use Website: instagram .com ', 'Original author(s): Brian Acton , Jan Koum Developer(s): Meta Platforms , Will Cathcart (Head of WhatsApp) [1] [2] Initial release: January 2009 ; 14 years ago ( 2009-01 ) iOS22.13.74  / 27 June 2022; 11 months ago (27 June 2022)Android2.22.16.74[3]  / 29 July 2022; 10 months ago (29 July 2022)Windows2.2226.6[4]  / 1 August 2022; 9 months ago (1 August 2022)macOS2.2222.12  / 27 June 2022; 11 months ago (27 June 2022): iOS iOS: 22.13.74  27 June 2022 ; 11 months ago ( 27 June 2022 ) Android: 2.22.16.74 [3]  29 July 2022 ; 10 months ago ( 29 July 2022 ) Windows: 2.2226.6 [4]  1 August 2022 ; 9 months ago ( 1 August 2022 ) macOS: 2.2222.12  27 June 2022 ; 11 months ago ( 27 June 2022 ) Written in: Erlang [5] Operating system: Android , iOS , KaiOS , macOS , Windows (The latter two require one-time verification from the mobile app client.) Size: 178 MB (iOS) [6] 33.85 MB (Android) [7] Available in: 40 (iOS) and 60 (Android) [8] languages Type: Instant messaging , VoIP License: Proprietary software with EULA \"European Region\" [9] \"others\" [10] Website: www .whatsapp .com ']\n"
          ]
        }
      ]
    },
    {
      "cell_type": "markdown",
      "source": [
        "Code Without comments and citenote excluded"
      ],
      "metadata": {
        "id": "7KcpTDXTF3_c"
      }
    },
    {
      "cell_type": "code",
      "source": [
        "import requests\n",
        "from bs4 import BeautifulSoup\n",
        "import re\n",
        "import html\n",
        "# import unicodedata\n",
        "# from nltk.tokenize import word_tokenize\n",
        "\n",
        "links = [\n",
        "    'https://en.wikipedia.org/wiki/Apple_Inc.',\n",
        "    'https://en.wikipedia.org/wiki/Microsoft',\n",
        "    'https://en.wikipedia.org/wiki/Google',\n",
        "    'https://en.wikipedia.org/wiki/Amazon_(company)',\n",
        "    'https://en.wikipedia.org/wiki/Facebook',\n",
        "    'https://en.wikipedia.org/wiki/Tesla,_Inc.',\n",
        "    'https://en.wikipedia.org/wiki/Netflix',\n",
        "    'https://en.wikipedia.org/wiki/SpaceX',\n",
        "    'https://en.wikipedia.org/wiki/Instagram',\n",
        "    'https://en.wikipedia.org/wiki/WhatsApp'\n",
        "]\n",
        "\n",
        "# Create an empty list to store the extracted words\n",
        "text = []\n",
        "\n",
        "# Iterate over each link and extract the words\n",
        "for url in links:\n",
        "    # Send a GET request to the URL and retrieve the HTML content\n",
        "    response = requests.get(url)\n",
        "    html_content = response.text\n",
        "\n",
        "    # Create a BeautifulSoup object to parse the HTML\n",
        "    soup = BeautifulSoup(html_content, 'html.parser')\n",
        "\n",
        "    # Find the infobox element by its class or ID\n",
        "    infobox = soup.find('table', {'class': 'infobox'})\n",
        "\n",
        "    # Extract the key and words from the infobox\n",
        "    key_words = \"\"\n",
        "    if infobox:\n",
        "        rows = infobox.find_all('tr')\n",
        "        for row in rows:\n",
        "            cells = row.find_all(['th', 'td'])\n",
        "\n",
        "            if len(cells) >= 2:\n",
        "                key = cells[0].get_text().strip()\n",
        "                value = cells[1].get_text(strip=True, separator=' ')\n",
        "                value = html.unescape(value)\n",
        "                value = re.sub(r'\\s+', ' ', value)\n",
        "                value = value.replace('\\ufeff', '')\n",
        "                value = value.replace('/', '')\n",
        "                value = re.sub(r'\\[\\d+\\]', '', value)\n",
        "                value = re.sub(r'<a\\b[^>]*>.*?</a>', '', value)\n",
        "                key_words += key + \": \" + value + \" \"\n",
        "\n",
        "    text.append(key_words)\n",
        "\n",
        "# Replace \\xa0 with regular spaces in the extracted text\n",
        "result = []\n",
        "for string in text:\n",
        "    string = string.replace('\\xa0', ' ')\n",
        "    result.append(string)\n",
        "\n",
        "print(result)\n"
      ],
      "metadata": {
        "colab": {
          "base_uri": "https://localhost:8080/"
        },
        "id": "BPn-_IOwEHgS",
        "outputId": "d931f2e0-2b2a-4497-fe1b-a68af2f38e2e"
      },
      "execution_count": 29,
      "outputs": [
        {
          "output_type": "stream",
          "name": "stdout",
          "text": [
            "['Formerly: Apple Computer Company (1976–1977) Apple Computer, Inc. (1977–2007) Type: Public Traded as: Nasdaq : AAPL Nasdaq-100 component DJIA component S&P 100 component S&P 500 component ISIN: US0378331005 Industry: Consumer electronics Software services Online services Founded: April 1, 1976 ; 47 years ago ( 1976-04-01 ) in Los Altos, California , U.S. Founders: Steve Jobs Steve Wozniak Ronald Wayne Headquarters: 1 Apple Park Way , Cupertino, California , U.S. 37°20′06″N 122°00′32″W    37.3349°N 122.0090°W   37.3349; -122.0090 Number of locations: 525 retail stores (2023) Area served: Worldwide Key people: Arthur D. Levinson ( chairman ) Tim Cook ( CEO ) Jeff Williams ( COO ) Luca Maestri ( CFO ) Products: AirPods Apple Watch iPad iPhone Mac Full list Services: App Store Apple Card Apple Music Apple TV+ Apple Pay Revenue: US$ 394.33 billion (2022) Operating income: US$119.44 billion (2022) Net income: US$99.80 billion (2022) Total assets: US$352.76 billion (2022) Total equity: US$50.67 billion (2022) Number of employees: 164,000 (2022) Subsidiaries: Apple Studios Beats Electronics Beddit Braeburn Capital Claris Drive.ai InVisage Technologies Website: www .apple .com ', 'Type: Public Traded as: Nasdaq : MSFT Nasdaq-100 component DJIA component S&P 100 component S&P 500 component ISIN: US5949181045 Industry: Information technology Founded: April 4, 1975 ; 48 years ago ( 1975-04-04 ) in Albuquerque, New Mexico , U.S. Founders: Bill Gates Paul Allen Headquarters: One Microsoft Way Redmond, Washington , U.S. Area served: Worldwide Key people: Satya Nadella ( Chairman and CEO ) Brad Smith (vice chairman and president) Bill Gates (technical adviser and founder) Products: Software development Computer hardware Consumer electronics Social networking service Cloud computing Video games Internet Corporate venture capital Brands: Windows Office Skype Visual Studio Bethesda Dynamics Xbox Minecraft Surface Services: Azure Bing LinkedIn Yammer Microsoft 365 OneDrive Outlook.com GitHub Microsoft Store Windows Update Xbox Game Pass Xbox network Revenue: US$ 198.3 billion (2022) Operating income: US$83.4 billion (2022) Net income: US$72.7 billion (2022) Total assets: US$364.8 billion (2022) Total equity: US$166.5 billion (2022) Number of employees: 221,000 (2022) Divisions: Microsoft Engineering Groups Microsoft Digital Crimes Unit Microsoft Press Subsidiaries: GitHub LinkedIn Metaswitch Nuance Communications RiskIQ Skype Technologies Xamarin Xandr Website: microsoft.com ', 'Formerly: Google Inc. (1998–2017) Type: Subsidiary ( LLC ) Industry: Artificial intelligence Advertising Cloud computing Computer software Computer hardware Internet Founded: September 4, 1998 ; 24 years ago ( 1998-09-04 ) [a] in Menlo Park , California , United States Founders: Larry Page Sergey Brin Headquarters: 1600 Amphitheatre Parkway , Mountain View, California , U.S. Area served: Worldwide Key people: Sundar Pichai ( CEO ) Ruth Porat ( CFO ) Thomas Kurian ( CEO of Google Cloud ) Products: Workspace Android Waze Pixel Nest Full list Number of employees: 139,995 (2021) Parent: Alphabet Inc Subsidiaries: YouTube LLC Website: about.google google.com ', 'Trade name: Amazon Formerly: Cadabra, Inc. (1994–1995) Type: Public Traded as: Nasdaq : AMZN Nasdaq-100 component S&P 100 component S&P 500 component ISIN: US0231351067 Industry: Conglomerate Founded: July 5, 1994 ; 28 years ago ( 1994-07-05 ) Bellevue, Washington , U.S. Founder: Jeff Bezos Headquarters: Seattle, Washington and Arlington, Virginia , U.S. Area served: Worldwide Key people: Jeff Bezos ( Chairman ) Andy Jassy ( President and CEO ) Products: Echo Fire Tablet Fire TV Fire OS Kindle Services: Amazon.com Amazon Alexa Amazon Appstore Amazon Luna Amazon Music Amazon Pay Amazon Prime Amazon Prime Video Twitch Ring Amazon Web Services Revenue: US$513.98 billion (2022) Operating income: US$12.25 billion (2022) Net income: US$−2.72 billion (2022) Total assets: US$462.68 billion (2022) Total equity: US$146.04 billion (2022) Owner: Jeff Bezos (9.8%) Number of employees: 1,541,000 (December 2022) U.S.: 950,000 (June 2021) Subsidiaries: List A9.com AbeBooks Alexa Internet Amazon.com Amazon Air Amazon Books Amazon Fresh Amazon Games Amazon Lab126 Amazon Logistics Amazon Pharmacy Amazon Publishing Amazon Robotics Amazon Studios AWS Audible Blink Body Labs Book Depository ComiXology Digital Photography Review Eero LLC Goodreads Graphiq IMDb MGM Holdings PillPack Ring Souq.com Twitch Interactive Whole Foods Market Woot Zappos Zoox Website: www .amazon .com ', 'Type of site: Social networking service Publisher Available in: 112 languages  Founded: February 4, 2004 ; 19 years ago ( 2004-02-04 ) in Cambridge, Massachusetts Area served: Worldwide, except blocking countries Owner: Meta Platforms Founder(s): Mark Zuckerberg Dustin Moskovitz Chris Hughes Andrew McCollum Eduardo Saverin CEO: Mark Zuckerberg URL: facebook .com Registration: Required (to do any activity) Users: 2.94 billion monthly active users (as of 31 March 2022 [update] )  Launched: February 4, 2004 ; 19 years ago ( 2004-02-04 ) Current status: Active Written in: C++ , Hack (as HHVM ) ', 'Formerly: Tesla Motors (2003–2017) Type: Public Traded as: Nasdaq : TSLA Nasdaq-100 component S&P 100 component S&P 500 component ISIN: US88160R1014 Industry: Automotive Renewable energy Founded: July 1, 2003 ; 19 years ago ( 2003-07-01 ) in San Carlos, California , U.S. Founders: See § Founding Headquarters: 13101 Tesla Road , Austin, Texas , U.S. Number of locations: 764 retail storesgalleries and service centers (2022) Area served: East Asia Europe Middle East North America Oceania Southeast Asia Key people: Elon Musk (CEO) Robyn Denholm (chair) Products: Model 3 Model S Model X Model Y Semi Powerwall , Powerpack , and Megapack solar panels and Solar Roof Production output: 1,369,611 vehicles (2022) 6.54 GWh battery energy storage systems (2022) 348 MW solar (2022) Services: Service charging insurance connectivity Revenue: US$81.46 billion (2022) Operating income: US$13.66 billion (2022) Net income: US$12.56 billion (2022) Total assets: US$82.34 billion (2022) Total equity: US$44.70 billion (2022) Owner: Elon Musk (20.6%)  Number of employees: 127,855 (2022) Subsidiaries: Tesla Energy Tesla Automation Website: www .tesla .com ', 'Type of site: OTT streaming platform Available in: List Arabic ( Egyptian and Modern Standard ) Catalan (content only) Chinese ( Cantonese and Mandarin ) Croatian Czech Danish Dutch English ( American and British ) Filipino Finnish French German Greek Hebrew Hindi  Hungarian Indonesian  Italian Japanese Kannada Korean Malay Malayalam Marathi (Content only) Norwegian ( Bokmål ) Polish Portuguese ( Brazilian and European ) Romanian Russian Serbian (content only) Spanish ( European and Latin American ) Swedish Tamil Telugu Thai Turkish Ukrainian Urdu (content only) Vietnamese Headquarters: Los Gatos, California , U.S. Country of origin: United States Area served: Worldwide (excluding Mainland China , North Korea , Russia and Syria )   Parent: Netflix, Inc. URL: www .netflix .com Commercial: Yes Registration: Required Users: 232.5 million (31 March 2023) Launched: 16 January 2007 ; 16 years ago ( 2007-01-16 ) Current status: Active ', 'Trade name: SpaceX Type: Private Industry: Space industry Communications Founded: March 14, 2002 ; 21 years ago ( 2002-03-14 ) in El Segundo, California , U.S.  Founder: Elon Musk Headquarters: Hawthorne, California , United States Key people: Elon Musk ( CEO , chairman & CTO )  Gwynne Shotwell (president & COO )  Products: Launch vehicles Rocket engines Dragon capsules Satellite constellation Starlink and SpaceBEE Services: Orbital rocket launch Satellite internet Revenue: $2 billion (2018)  Owner: Elon Musk Trust (47.4% equity; 78.3% voting control)  Number of employees: 12,000  (April 2022) Subsidiaries: Swarm Technologies Website: www .spacex .com ', 'Original author(s): Kevin Systrom Mike Krieger Developer(s): Meta Platforms Initial release: October 6, 2010 ; 12 years ago ( 2010-10-06 ) Android (Alpha)358.0.0.0.19 / October 15, 2022; 7 months ago (2022-10-15)[1]Android (Beta)257.0.0.14.110 / October 15, 2022; 7 months ago (2022-10-15)[1]: Android ( Alpha ) Android (Alpha): 358.0.0.0.19  October 15, 2022 ; 7 months ago ( 2022-10-15 )  Android (Beta): 257.0.0.14.110  October 15, 2022 ; 7 months ago ( 2022-10-15 )  Operating system: iOS Android Fire OS Microsoft Windows Size: 231.3 MB (iOS)  50.22 MB (Android)  50.3 MB (Fire OS)  Available in: 32  languages License: Proprietary software with Terms of Use Website: instagram .com ', 'Original author(s): Brian Acton , Jan Koum Developer(s): Meta Platforms , Will Cathcart (Head of WhatsApp)   Initial release: January 2009 ; 14 years ago ( 2009-01 ) iOS22.13.74  / 27 June 2022; 11 months ago (27 June 2022)Android2.22.16.74[3]  / 29 July 2022; 10 months ago (29 July 2022)Windows2.2226.6[4]  / 1 August 2022; 9 months ago (1 August 2022)macOS2.2222.12  / 27 June 2022; 11 months ago (27 June 2022): iOS iOS: 22.13.74  27 June 2022 ; 11 months ago ( 27 June 2022 ) Android: 2.22.16.74   29 July 2022 ; 10 months ago ( 29 July 2022 ) Windows: 2.2226.6   1 August 2022 ; 9 months ago ( 1 August 2022 ) macOS: 2.2222.12  27 June 2022 ; 11 months ago ( 27 June 2022 ) Written in: Erlang  Operating system: Android , iOS , KaiOS , macOS , Windows (The latter two require one-time verification from the mobile app client.) Size: 178 MB (iOS)  33.85 MB (Android)  Available in: 40 (iOS) and 60 (Android)  languages Type: Instant messaging , VoIP License: Proprietary software with EULA \"European Region\"  \"others\"  Website: www .whatsapp .com ']\n"
          ]
        }
      ]
    },
    {
      "cell_type": "markdown",
      "source": [
        "Extracting sidebar data"
      ],
      "metadata": {
        "id": "GzSs5y5HYT90"
      }
    },
    {
      "cell_type": "code",
      "source": [
        "import requests\n",
        "from bs4 import BeautifulSoup\n",
        "\n",
        "# Wikipedia page URL\n",
        "url = 'https://en.wikipedia.org/wiki/Machine_learning'\n",
        "\n",
        "# Send a GET request to the URL and retrieve the HTML content\n",
        "response = requests.get(url)\n",
        "html_content = response.text\n",
        "\n",
        "# Create a BeautifulSoup object to parse the HTML\n",
        "soup = BeautifulSoup(html_content, 'html.parser')\n",
        "\n",
        "# Find elements with class 'sidebar-list-title'\n",
        "sidebar_titles = soup.find_all('div', class_='sidebar-list-title')\n",
        "\n",
        "# Find elements with class 'sidebar-list-content'\n",
        "sidebar_contents = soup.find_all('div', class_='sidebar-list-content')\n",
        "\n",
        "# Extract and print the data from sidebar\n",
        "for title, content in zip(sidebar_titles, sidebar_contents):\n",
        "    # Extract the title\n",
        "    title_text = title.get_text().strip()\n",
        "    print('Title:', title_text)\n",
        "\n",
        "    # Extract the content\n",
        "    content_items = content.find_all('li')\n",
        "    content_text = [item.get_text().strip() for item in content_items]\n",
        "    print('Content:', content_text)\n",
        "\n",
        "    # print()  # Print a blank line for separation\n"
      ],
      "metadata": {
        "colab": {
          "base_uri": "https://localhost:8080/"
        },
        "id": "rgHPdG5uWBVY",
        "outputId": "70f96512-acee-4def-caae-409932b1e778"
      },
      "execution_count": 13,
      "outputs": [
        {
          "output_type": "stream",
          "name": "stdout",
          "text": [
            "Title: Paradigms\n",
            "Content: ['Supervised learning', 'Unsupervised learning', 'Online learning', 'Batch learning', 'Meta-learning', 'Semi-supervised learning', 'Self-supervised learning', 'Reinforcement learning', 'Rule-based learning', 'Quantum machine learning']\n",
            "Title: Problems\n",
            "Content: ['Classification', 'Generative model', 'Regression', 'Clustering', 'dimension reduction', 'density estimation', 'Anomaly detection', 'Data Cleaning', 'AutoML', 'Association rules', 'Semantic analysis', 'Structured prediction', 'Feature engineering', 'Feature learning', 'Learning to rank', 'Grammar induction', 'Ontology learning', 'Multimodal learning']\n",
            "Title: Supervised learning(classification • regression)\n",
            "Content: ['Apprenticeship learning', 'Decision trees', 'Ensembles\\nBagging\\nBoosting\\nRandom forest', 'Bagging', 'Boosting', 'Random forest', 'k-NN', 'Linear regression', 'Naive Bayes', 'Artificial neural networks', 'Logistic regression', 'Perceptron', 'Relevance vector machine (RVM)', 'Support vector machine (SVM)']\n",
            "Title: Clustering\n",
            "Content: ['BIRCH', 'CURE', 'Hierarchical', 'k-means', 'Fuzzy', 'Expectation–maximization (EM)', 'DBSCAN', 'OPTICS', 'Mean shift']\n",
            "Title: Dimensionality reduction\n",
            "Content: ['Factor analysis', 'CCA', 'ICA', 'LDA', 'NMF', 'PCA', 'PGD', 't-SNE', 'SDL']\n",
            "Title: Structured prediction\n",
            "Content: ['Graphical models\\nBayes net\\nConditional random field\\nHidden Markov', 'Bayes net', 'Conditional random field', 'Hidden Markov']\n",
            "Title: Anomaly detection\n",
            "Content: ['RANSAC', 'k-NN', 'Local outlier factor', 'Isolation forest']\n",
            "Title: Artificial neural network\n",
            "Content: ['Autoencoder', 'Cognitive computing', 'Deep learning', 'DeepDream', 'Multilayer perceptron', 'RNN\\nLSTM\\nGRU\\nESN\\nreservoir computing', 'LSTM', 'GRU', 'ESN', 'reservoir computing', 'Restricted Boltzmann machine', 'GAN', 'SOM', 'Convolutional neural network\\nU-Net', 'U-Net', 'Transformer\\nVision', 'Vision', 'Spiking neural network', 'Memtransistor', 'Electrochemical RAM (ECRAM)']\n",
            "Title: Reinforcement learning\n",
            "Content: ['Q-learning', 'SARSA', 'Temporal difference (TD)', 'Multi-agent\\nSelf-play', 'Self-play']\n",
            "Title: Learning with humans\n",
            "Content: ['Active learning', 'Crowdsourcing', 'Human-in-the-loop']\n",
            "Title: Model diagnostics\n",
            "Content: ['Learning curve']\n",
            "Title: Theory\n",
            "Content: ['Kernel machines', 'Bias–variance tradeoff', 'Computational learning theory', 'Empirical risk minimization', 'Occam learning', 'PAC learning', 'Statistical learning', 'VC theory']\n",
            "Title: Machine-learning venues\n",
            "Content: ['NeurIPS', 'ICML', 'ICLR', 'ML', 'JMLR']\n",
            "Title: Related articles\n",
            "Content: ['Glossary of artificial intelligence', 'List of datasets for machine-learning research', 'Outline of machine learning']\n",
            "Title: Major goals\n",
            "Content: ['Artificial general intelligence', 'Planning', 'Computer vision', 'General game playing', 'Knowledge reasoning', 'Machine learning', 'Natural language processing', 'Robotics', 'AI safety']\n",
            "Title: Approaches\n",
            "Content: ['Symbolic', 'Deep learning', 'Bayesian networks', 'Evolutionary algorithms', 'Situated approach', 'Hybrid intelligent systems', 'Systems integration']\n",
            "Title: Philosophy\n",
            "Content: ['Chinese room', 'Friendly AI', 'Control problem/Takeover', 'Ethics', 'Existential risk', 'Turing test']\n",
            "Title: History\n",
            "Content: ['Timeline', 'Progress', 'AI winter', 'AI boom']\n",
            "Title: Technology\n",
            "Content: ['Applications', 'Projects', 'Programming languages']\n",
            "Title: Glossary\n",
            "Content: ['Glossary']\n"
          ]
        }
      ]
    }
  ]
}