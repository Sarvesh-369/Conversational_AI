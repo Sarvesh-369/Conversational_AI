{
  "nbformat": 4,
  "nbformat_minor": 0,
  "metadata": {
    "colab": {
      "provenance": []
    },
    "kernelspec": {
      "name": "python3",
      "display_name": "Python 3"
    },
    "language_info": {
      "name": "python"
    }
  },
  "cells": [
    {
      "cell_type": "code",
      "source": [
        "import spacy\n",
        "\n",
        "def count_unique_tokens_and_paragraphs(file_path):\n",
        "    nlp = spacy.load(\"en_core_web_sm\")\n",
        "    unique_tokens = set()\n",
        "    paragraph_count = 0\n",
        "\n",
        "    with open(file_path, 'r') as file:\n",
        "        for line in file:\n",
        "            line = line.strip()\n",
        "\n",
        "            if line:\n",
        "                # Non-empty line, consider it as a paragraph\n",
        "                paragraph_count += 1\n",
        "\n",
        "                # Tokenize the line\n",
        "                doc = nlp(line)\n",
        "\n",
        "                # Add tokens to the set of unique tokens\n",
        "                for token in doc:\n",
        "                    unique_tokens.add(token.text)\n",
        "\n",
        "    # Get the count of unique tokens\n",
        "    num_unique_tokens = len(unique_tokens)\n",
        "\n",
        "    return num_unique_tokens, paragraph_count\n",
        "\n",
        "\n",
        "# Provide the path to your text file\n",
        "file_path = '/content/nlp.txt'\n",
        "\n",
        "# Call the function to get the counts\n",
        "num_unique_tokens, num_paragraphs = count_unique_tokens_and_paragraphs(file_path)\n",
        "\n",
        "print(\"Number of Unique Tokens:\", num_unique_tokens-1)\n",
        "print(\"Number of Paragraphs:\", num_paragraphs)\n"
      ],
      "metadata": {
        "colab": {
          "base_uri": "https://localhost:8080/"
        },
        "id": "IORoP1u5lgav",
        "outputId": "7b0b1b43-f15d-4555-9466-6d6d2440f364"
      },
      "execution_count": 2,
      "outputs": [
        {
          "output_type": "stream",
          "name": "stdout",
          "text": [
            "Number of Unique Tokens: 17\n",
            "Number of Paragraphs: 2\n"
          ]
        }
      ]
    }
  ]
}